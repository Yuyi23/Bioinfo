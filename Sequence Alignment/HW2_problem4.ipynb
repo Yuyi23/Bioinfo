{
 "cells": [
  {
   "cell_type": "markdown",
   "metadata": {
    "id": "Igv-7g1DiMVj"
   },
   "source": [
    "# **Problem 4**\n",
    "\n",
    "***Note:*** You are only allowed to use pandas and numpy libraries if needed."
   ]
  },
  {
   "cell_type": "markdown",
   "metadata": {
    "id": "dSb7tQXaiR-F"
   },
   "source": [
    "## **Part a):**\n",
    "\n",
    "Complete the following function to implement a dynamic programming algorithm that finds the optimal global alignment of two input DNA sequences.\n",
    "\n",
    "---\n",
    "**Inputs:**\n",
    "\n",
    "1- path_fasta_1 (string): path to \"Fasta\" format file of first sequence\n",
    "\n",
    "2- path_fasta_2 (string): path to \"Fasta\" format file of second sequence\n",
    "\n",
    "3- path_score_mat (string): path to substitution score matrix.\n",
    "\n",
    "4- gap_penalty (negative float): a enagtive real number. \n",
    "\n",
    "---\n",
    "\n",
    "**Outputs:** your function should return 3 values:\n",
    "\n",
    "1- The optimal global alignment score\n",
    "\n",
    "2- a string representing the alignment of first input sequence (any one, if more than one optimal solutions exist; use \"-\" for indels)\n",
    "\n",
    "3- a string representing the alignment of second input sequence (any one, if more than one optimal solutions exist; use \"-\" for indels)\n",
    "\n",
    "\n",
    "**Output example:** 5, \"ACCC--AC\", \"AC-CGGAC\"\n",
    "\n",
    "---\n",
    "\n",
    "**Note** since you will be implementing a dynamic programming alignment algorithm, we expect your program to be of **quadratic time** complexity (i.e., two sequences of length $n$ can be aligned in O($n^2$) time)."
   ]
  },
  {
   "cell_type": "code",
   "execution_count": 89,
   "metadata": {
    "id": "dgWURtxTh28A"
   },
   "outputs": [],
   "source": [
    "import numpy as np\n",
    "def optimal_global_alignment(path_fasta_1, path_fasta_2, path_score_mat, gap_penalty = -200):\n",
    "    # Read two sequences and substitution score matrix \n",
    "    fasta_1 = open(path_fasta_1)\n",
    "    fasta_2 = open(path_fasta_2)\n",
    "    path_score = open(path_score_mat)\n",
    "    \n",
    "    file = path_score.readlines()\n",
    "    matrix_list = list()\n",
    "    for line in file:\n",
    "        line = line.split()\n",
    "        matrix_list.append(line)\n",
    "\n",
    "    matrix_dict = {}\n",
    "    for i in range(1, len(matrix_list)):\n",
    "        matrix_dict[matrix_list[i][0]] = {}\n",
    "        for j in range(len(matrix_list[0])):\n",
    "            matrix_dict[matrix_list[i][0]][matrix_list[0][j]] = matrix_list[i][j + 1]\n",
    "    \n",
    "    for line in fasta_1:\n",
    "        line1 = line.strip()\n",
    "    for line in fasta_2:\n",
    "        line2 = line.strip()\n",
    "        \n",
    "    # Create DP matrix\n",
    "    matrix = np.zeros((len(line1)+1, len(line2)+1))\n",
    "    for i in range(matrix.shape[0]):\n",
    "        for j in range(matrix.shape[1]):\n",
    "            if i == 0:\n",
    "                matrix[i][j] = j * gap_penalty\n",
    "            elif j == 0:\n",
    "                matrix[i][j] = i * gap_penalty\n",
    "            else:\n",
    "                temp1 = matrix[i-1][j-1] + int(matrix_dict[line1[i-1]][line2[j-1]])\n",
    "                temp2 = matrix[i-1][j] + gap_penalty\n",
    "                temp3 = matrix[i][j-1] + gap_penalty\n",
    "                matrix[i][j] = max(temp1, temp2, temp3)\n",
    "#     print(matrix)\n",
    "    aligned_1 = \"\"\n",
    "    aligned_2 = \"\"\n",
    "    i = matrix.shape[0] - 1\n",
    "    j = matrix.shape[1] - 1\n",
    "    score = matrix[i][j]\n",
    "    while (i > 0 and j > 0):\n",
    "        if (i >= 0 and j >= 0 and matrix[i][j] == matrix[i-1][j-1] + int(matrix_dict[line1[i-1]][line2[j-1]])):\n",
    "            aligned_1 += line1[i-1]\n",
    "            aligned_2 += line2[j-1]\n",
    "            i -= 1\n",
    "            j -= 1\n",
    "        elif (i >= 0 and j >= 0 and matrix[i][j] == matrix[i-1][j] + gap_penalty):\n",
    "            aligned_1 += line1[i-1]\n",
    "            aligned_2 += \"-\"\n",
    "            i -= 1\n",
    "        else:\n",
    "            aligned_1 += \"-\"\n",
    "            aligned_2 += line2[j-1]\n",
    "            j -= 1\n",
    "\n",
    "#     print(aligned_1[::-1])\n",
    "#     print(aligned_2[::-1])\n",
    "    aligned_1 = aligned_1[::-1]\n",
    "    aligned_2 = aligned_2[::-1]\n",
    "    return score, aligned_1, aligned_2"
   ]
  },
  {
   "cell_type": "code",
   "execution_count": 90,
   "metadata": {},
   "outputs": [
    {
     "data": {
      "text/plain": [
       "(3362.0,\n",
       " 'CTCGTCCTAAAAAAAA-GGAACGCGTGACGCGCTAAAAG-CATTCGTGCC',\n",
       " 'GTCGTCCTAAAAAAAAGGGAACGCGTGATGCGCTAAAAGACATCAGTGCC')"
      ]
     },
     "execution_count": 90,
     "metadata": {},
     "output_type": "execute_result"
    }
   ],
   "source": [
    "path_fasta_1 = \"./prob4_data/data_example/seq1.fasta\"\n",
    "path_fasta_2 = \"./prob4_data/data_example/seq2.fasta\"\n",
    "path_score_mat = \"./prob4_data/data_example/substitution_matrix.txt\"\n",
    "\n",
    "optimal_global_alignment(path_fasta_1, path_fasta_2, path_score_mat)"
   ]
  },
  {
   "cell_type": "markdown",
   "metadata": {
    "id": "FRQ6x2qfCelv"
   },
   "source": [
    "## **Part b):**\n",
    "\n",
    "Run your alignment code created in the last part on the 10 provided pair of sequences (data_1 to data_10). For each alignment, use the provided substitution matrix (same for all 10 alignments) and gap penalty of -200. For each alignment $i$ ($i \\in \\{1..10\\}$) write the results in a text file named \"align_data_i.txt\" in the following format:\n",
    "\n",
    "\"The optimal alignment score between given sequences has score X\"\n",
    "\n",
    "\"aligned sequence 1\"\n",
    "\n",
    "\"aligned sequence 2\"\n",
    "\n",
    "---\n",
    "\n",
    "**Example:** for data_example, the output (align_data_example.txt) should be:\n",
    "\n",
    "The optimal alignment score between given sequences has score 3362.0\n",
    "\n",
    "CTCGTCCTAAAAAAAA-GGAACGCGTGACGCGCTAAAAG-CATTCGTGCC\n",
    "\n",
    "GTCGTCCTAAAAAAAAGGGAACGCGTGATGCGCTAAAAGACATCAGTGCC"
   ]
  },
  {
   "cell_type": "code",
   "execution_count": 102,
   "metadata": {},
   "outputs": [
    {
     "name": "stdout",
     "output_type": "stream",
     "text": [
      "The optimal alignment score between given sequences has score 2809.0\n",
      "TTGTAGGCTCCCGCA-GTGCTGGTCAAAACGAGCTCCTCGGTATAAAAAC\n",
      "TTATAGGCTTCGGCAGGTG-TGGTC-AAACGA-CTACTCGGTATAAAAAC\n",
      "\n",
      "The optimal alignment score between given sequences has score 2974.0\n",
      "TTAGTACAAAGTATAGTCACCTCAGAAGCTTGTTGGCTCAATCCGAGT\n",
      "TTAATA-AATGTATAGTCACCTCACGA-CTTGTTGCCTCAATTCGAGT\n",
      "\n",
      "The optimal alignment score between given sequences has score 6003.0\n",
      "GGCACAGTATC-GTGCTTACCCTGCTTCGTCCGTTCGCTCTAGTAGATCAGCTTTGCTTAAACCTGACTGAGCAGTAAGAGGTGATAGTGTCGGGGCG\n",
      "GG-ACAGAATCGGTGCTTGCCCT-CTTCGTTCGTTCG-TCTAGTAGACCATCTTTCCTAAAACCCGACTG-GCAGTAAGAGGTGATAGTGTCAGGGCG\n",
      "\n",
      "The optimal alignment score between given sequences has score 5615.0\n",
      "GGAAACAATACCTCTGCCCATATGCGGCAATGTCTATTTAATTGGCGTATCTTTCAGTCGTGGTTCGTGCTTTACTCCGATTATTCTCTGAGTATGG\n",
      "GGCAACAATATCTCCGCCCA-CTGCGGCGATGTCTA--TAATTGGCGTATCTTTCTGCCGTGATTCGTGATTTACTACCATTATACTCTGAGTA-GG\n",
      "\n",
      "The optimal alignment score between given sequences has score 16871.0\n",
      "CGG-GGAG-CACGACAGAGGGACAAGTCC-GAATTATTTCTCGCGAGGAACCACGCGCCCATCCCAGCAGGTGATCGT-ACGCTCTGCCTGATATTTGAAGGTATTGTACTCTAACAACATTGCTCAGGGTAGTTTCATAATCCGTGTTAGTC-TCAATCACAATCCTGTT-AAAGAAAGTATTCGTTCGTAGCTGTGCCCCCGTCGACACCCTTCACGAGGCCCCAAT-TGGCTTACAGCTCAACGGGCTACCTGAATGTCCCTTGCCCATTTCGTA-ATCATGCCCTCGCCAC\n",
      "CGGATGAGCCTCGAGAGATGGACAAGTCCAGAATTATTTCTC-CGAGGAACCACGCGCCCACCCCCG-A-GTC-TCGTGACGTTCT-CCTGATATTTGAAGGTATTGTACACTAACAGCATTGCTCAGGGTAG-TTCATAATCAGTGCTATTCTTCACTCA-AATCCTGTTGATACAGAGTATCCGTTC-TA-CTGTGCATCCCTCGACACCCCTTACGAGTCCCCAATATCGCTTATAGC-CCA-GGGCTACCTGAATGTCCCTTGCCCA-TTCGTATATAATTCCCTCGCCAC\n",
      "\n",
      "The optimal alignment score between given sequences has score 16774.0\n",
      "CAACTGCCGTTAGCGCAAAACGACAAGCTCATTCGGCCTTCATGGTCTGTCGCACTTGAGCCAGCGGTAA-GGGTCGAATG-CACAGTGTTTTTACTTAGGAA-TAGTCGGCAAAGAGTGCTTAC-TCTTTCGTTTC-CCGGGCTCGTAGGCG-GAG-CTTCGGACTCCTCGTCATGACTACCGGCACCGTCTATCTAGAATGCGTTCCAGCGCCCCGCCTAGCCCAAATCGTTTGGCGGTCGGT-CTTTGAGTTAAACTT-CCCATGCTCGTTCTGGCGCACCCCCCTCCGAACT\n",
      "CAACTGCCGTCAG-GCAAAA-GACCAGCTC-GTCGGCCTTCATGGTCTGTCACAC-TGAGCCAGCGGTAACGGGTCGAAGGCCACAGTGTTTTAA-TTAGTAACTAGACGGCAAAGAGAGGTTACATCGTTCGTTTATCCGCGCTCGTAGGCGAGAGTCTTCGCAGTCCTCGTCATGAGATACGGATCCGTCTGTCTAGAATG-GTGCCAGCACCCCGCC-AGACCAAATCGTTCGGCGATTGGTACTTTGAGTTAAAATTAGCCACGCTAGTTCGGGCGCA-CACCCTCCGAAGT\n",
      "\n",
      "The optimal alignment score between given sequences has score 34241.0\n",
      "ACTCTTTACGCTCTAGCGCCA-TCGGGGAATGGGAGACTATG-CACCGA-TCTATGGTAGCAAAAAACGGTGTCATGGGTGATTCCTCTAGGCCTCCGGGCGTATCATCCCATTTATTGGTTGGAAGCAATTGAAACTC-CTCCGATACCCCCAATTCGTGAAGTATT-AGAATACGTCAATGACA-AGATGACATGAAGTTGGATTGTTAGGGTCTCAGGGCGTCTAATTCAAACCCACTGCCGGACCATCCAATA-AATGGGC-TCATACTACCTCTGCAAC-GT-ACGTGATGCTCTCCTGTCTGTTTGCT-GAATAGAGGCCGTCTCACCCCTAGACACCCCAACGG-ATAGTAAGGCTCGTGCATTCAGTATCGTCCCAAGTTCATACAAATG-AGTCAGAGAC-CCTAATAAGTTGTGAGAACTGATGATGCACTGT-GGGACTA-TGGATC-GAAGTTCCCTGA-AGCCCCTGTCCTCACCGTAGTAAGTTGGAACGCGCCTGTTAGCCCAATTAAACAGATCGCCGCACTCAGTGGCCT-TAGTCA--GCATACAAA-ATGGCGCG-ATTCTACCA-TCC\n",
      "AC-CCTTACGGTGTAGCGCGATTCTGGGATTGGGAGAATATGCCACCGAGTCGAT-GTAGCAAAAAACGGTGTCATGTGTGATACCCCTAGGCCTCCGGGCGTATCATCCCTTTTATTGGGTGGAAGCAATTGAAACTCACTCTGATACACCCAA-GCTTGAAGTATTAAGAATACGTCAATGACATAGATGACATGAAGTTGGATGGTTAGCC-CTCAGGGCGGCTAATTCAAACCCACTG--GGACCATCCAATATATTGGGCTTCATACTA-C-CTGCAACAGTAACGTGATGCTCTCCTG-CTGTTTGCTAGATTGGAGGCCGTATAACCCCTAGGAAACCC-ACGGAATAGTAAGG-TCGTGCATTC-GTATCGTGCC-AGTGCAAACAAATGAAGTCAGAGACGCCTAATAAGTT-TGAAAATTGATGATGTAGTGTGGGGACTAGTGTCTCGGAGGTTCCCTGACAGCCGCTGT-CACACCGT-G-AGTTTGGAACGTGCATGTTTGCCAAATTTAACAGATCGCCGCACTCCGTGGCTTATACTCATGGCCTAGTAAGATGGCGCGAATTCTACCAGTCC\n",
      "\n",
      "The optimal alignment score between given sequences has score 32366.0\n",
      "CAAGAAGACGGCCTACGTCATGTAGCG-GGGGTTC-TTTGTTAATGCACAAGCCGAAGGCGTACGGTCACT-CGCACTGCTTAGCTGTGTAGGGGACAC-TTGAGTCTCATAATGCCGTCCTCTGACTTCCGGGGGCTGATCCA-TTCTTCG-GTGTACTCGCTATGACCCCTTTTCGGAGTCATTCCACGGTACGTCTAAACTTATCCTTGTGGTGATCCATCCCTTCTTTCCGCACTCAGGCGGATCCCGGAATTAGATGCCATTGCTATGCCTACAACGAAGTAC-GGGGTTTTATATCCTTA-GCGCGACCAAAGTTCGAGTC-GT-GTTTGAATCTACGCGGATCGT-CTCCCGTAGCCGGCGGCAATCTCA-TTAAGAGGTAAGATGGTCG-CCGA-GATTGCAACAATCGCGCGG-TGCTCGAC-CACCCAGTC-GCTGCGCTAGCACGCGAGCAACTTCGCGCTTCATCCCGATCCAAGGAACCTGTCCTTAC-ACCCATGTATAGCGTGGTGAGGGGGATACTGGGATCTAAACGGACGCCTTAC-GC-ACTCCTCC-AAGTT-TGCATAT-ATCAGATT\n",
      "CAAGAAGATGTCCTGCGTCATGTAACGCGGGGTTCTTTTGTTAATTCATAGGCCGAAGGCGTAAGGTCACTGGGCACTGCCTAGCTGAGTAGAGGGCACTTTGAGGCTCACAATGCCGTCCTCTG-CTTCC-GGGGCTGACCGTGTGCTTCGCGTGTACTTG-TATGA-CCCTCTCCGGAGT-ATTCCTCGGTACGTCTAAACTTAT-CTTGTGGTGATCCAT-CCTCCTCTCCGCACTCAGGC-GATCCCGGAATTAGATGCCTTTGCTAAGCCTACAAAGAAGTACGGGGGTTTAAAAGCCTTATGAATGACCAAAG-TCG-CTCGGTCGTTGGAATCTACGCGGATCGTACTCCGGTAGCAGGCGGCAATCTCAGATAA-A--TAAGATGGTCGTCCGACGATTGCAACAATCGCACGGTTGCTATAGACACCCGGTCGGCTGCGCTAGCACGCGAGCAATTTGACTCTTC-TCCCGATCAATGG-ACCTGGCTTTCCGACCGA-GAATAGCGTGGT-A-GACGATACTGGGA-CTTAACGGACGCCTAACGGCGAGT-CTCCGAAGTTGTGCATATCACCAGATT\n",
      "\n",
      "The optimal alignment score between given sequences has score 57881.0\n",
      "AATAACTATACCAATTTCCGTGGGCGCTAGAAGAGCGTTACATATTAGCCGG-TAGCAGCATGAGAGTCGCTGGGT-CAATGAGAT-GTGTT--ACATCGTGCAGGTATGCGGGC-CTAAACCACGCTAAATCC--CCCCGACGGTAGTGGGCCAAGCTGGCGTTAAATTAACAGAGTCCATTAAATTACTCCTTCCCCACTTAGGGGAATTAACGGAAACATCGGTGTTTTGCGATTGTTTTCAGATAAACAGTGGGGATCCCCCTACGCGAGGG-TCATACTGGTATCACTTGGTTAGGCGAAAGCCATCAGCCGATGCTTCCTCCCACACATTAGCTGACGA-GATTCACCTATATGCAACGTAAATAGAGGCTG-AAGAACTCAT-AAC-ACATGTG-ACAAAACTGACCCCCATTGCTGTGTACCACGCGGACAGCGGACGAT--AGGACTCGCGCCTACATGCACGTCTCACTGCGCAGTACATGAGGCATCATTTGAAATATTCTTGG-TCGTGCCGTACTTCCCCGTTTTAGGTGTTGCTTC-TAGTTGATTCCATGAGTGGAAGTCTTCTCACATCATAATTGGGACTCCGTGACTGCACAGCCTGATGATCGGTTCCTCGGGCGCATCCTTTAGCCAAATCCAAAGGTGGATCAGAATCTGGTAGCATTAAAACAGACCACACTCCCGATCATTC-TGTCCGTCCGAGTACGGCGCTGGC-AAGGCGTGGCATATCGAAAGTGCAAGA-CACGTGGACAACCGGTAGTATGATTGACGGTCCTCATCCAGCTACTAGGGTAG-GCACCCTCGG-GCACGTAGGTTAGTGCTACAGGTTTGGCGGGGATGGGTGCTGGCGAGTTACATGGCATAGTGCG-CTTCTGGGAGACCGCAAAAAACTCTTTGCACTTATCTCCATGCA-ACA-CCAGTTGTCCGCTAGCTTCGCTCCTCATAAACTTAGTTG-AGCAG\n",
      "AAT-ACTATA-CAATTTCCGTGGGCGTTAACAGAGCATTACATCTTAGCCGGAAAGGT-CATG-GAGTCGGTGGGTACAATGAGATGGTGTTACACATCCTGCAGGTTTGCGGGCTCTTAACCACGTTAAATCCATCCCCGCCGCTAGTGGTCCAAGCTGGCGTTAAATTAACAGAG-CCATTAAATTACTGCTT-CCCACTTAGGGGAATTAGCGTAAAGAT-GGTGTTATGCGATTGATCGTA-ATAAACAGTGGTGATCCCCCAACGCGAGGGTTCATACT-GTAA-ACTTGGTTAGGCGAAAGCCATCAGGCGA-GCTTCCTCACAC-CATTAGCT-ACGACGATTC-CCTCTATGCAACGTCAATACAGGGTGCAAGAACACATAAACGACATGCGAACGAGACGTACCCCCATGGCTGTGTA-CACG-GGTCATCGGCCTTTAAATGACTCGCGCCTAC-TGCACGTCATACTGCGCAGCACATCA-GCATCATTTGAAATATTCTTGGTTCGTG-GGTACGTCCCCGTTTTAGGTGTTGCTGCGTTGTTGAATCCATCAGTGGAAGTCTTCTCACATCATAATTGGGATTGCGTGACTGCACAGCCAGATTATCGGTTCCTCGGGCG-AGCCTTTAGCCCAATCCAAAGGTGGAT-TG-ATCTAGTAGCATT-AAACATACC-CACT--CGAT-ATACTTGTCCGGCCGATTACGGTGCTGGCTAAGGCGTGGCATATCGTAAGTGGAAGTCCACGTGG-C-ACCGGTAGTATAATTGACGGTCATCA-CCAGCTACTAGTGGAGCGCACCCTCGGCGCACGTAGGTTAGTCCTACAGGTTTAGCGCTGATGGGTGCGGTCGAGTTACTGGGGATAGTGCGCCTTATGGCAG-CCG--AATAACTCTTTTCCC-AAGCTCTATGCTGACATCCAGTTGTCCG-TA-CTTCGC-GCTCAAAAACATAGTTGAAGCAG\n",
      "\n",
      "The optimal alignment score between given sequences has score 56201.0\n",
      "TGGTTTTGGTCAGT-CG-AAGGAAGATTCTAA--TC-TATC-CGGCGCAG-GCTAC-GCGTAC-TAATCCGGGC-TGGGGCAAGATGATATGACAATGTGGGCCACAGATCCGGCGTGCCTTAAGAGCGGATGTGACT-ATGGTACAGTT-CTGATACTAATTCTCTGGAGGAAAGAAGACGCAAAGC-CAAGTCGCCGCAAAAAACCACGCCTATGGGTTTTCGGTAAGGACTTCTTTATTGCGGCGGCATGCCTCGAACACT-TCCAGGTGCAATTAGTTAGGCGCTCT-GAGCAGCCAATCCTGGAGTAGCGTTAGTTTATCGCCGACCCAGA-GGAAATATTGATGGCCAAATCACCGATCCTGTCGAATTA-GCTTAGCGATGGCGGGGGGTGCGATCGTCGGCAACGGCCTATACTACCCCGCATTGAGCACGGCGGCCATCCAAGCATCCTGTGACGCGGACGTCAAGATATACCCCAATGTAGACCGAAGGGTCGTAGTGGAGTTTAAACCTCTGTATAGAAGACTCAGTGAACGGTCAACCTCATC-CAGGGTTCTCTGTTCAAGAGGGACCTAAATCTCCAT-GGCTTGGAACTAATATCCGCAGCAAATCCCGTCAT-AGCACTAAACAGGCCTC-TTATCGCGCCACTATAGC-CATCAGCATTTGCAGCTAAGTTTGCTAGCTCAAACACGCGTTGATAGGACCGCATCCCGATGG-ACACACTCGTTACATGACAGACGAAATTCCA-CAGAACGTGTAGACACTA-GAACTCTCGAATAATTTTTGTATAATTGGTTGGCAAGTTCCG-TATTTAAACTATGAAAA-GCCCTATATAAGCGGCGGGAT-GGCGGCCTGCGTCCGAATCTAGGATGACGGAGACACCCGGAGTGGTC-TCTT-C--TAC-AAGCTGTGTCCACGGCAGCAGGC-TATTTCAATCGGATATCCT-TGAGGTTGTACTA\n",
      "TGGTTTTGGTCAGGCCGAAAGGAAGATTCTAAGGTCATAGCTCGGGGCAGCGATCCAGTGTACATGATCCGGGCATGGTGCAAGATGTGAGGACAATCTGAG-CACAGATCCTGCGTCGCTTAAGAGCGGATG-CACTCCTGGTACAATTACTGATA-TGATTCTCTGTAGGAAAGAAGACGCAAAGGACAAGTCGCC-C-AAAAACCACGTATATGGGTTTAAAGT-AGGACTTC-TT-TTGC-GCAGCATGCCTCGAACACTGTCCAGGACCAATTAGTTA-GCGCTCACCAGCAGCCAATCCTGGAGTAGC-TGAGTTTATCGCCGACCGAGAGGGAAATATTGAAGGCTAAATCACCGATTCTGTCCGATTAGGCTGAGCGATGGCGGGGGGTGCGA-CCTCGACAT-GGCCCATCCTACCCCGTATTGAGC-CGGCGGCCAGCCAAGGATCCTGTCACCGAGACGT-AGCATATACCCCAGTGTAGACCG-A-GGTCGT-GTGGAGGTTACACCTCCGAATAGAA-ACTCATTGAACGGTCAACCTAATCACGGGGTTCACTG--CAA-AGGGACCTAAAT-TCCATAGGCTTGGAACTCATATCCGCAGCAAATCCCGTCATAAGCTCTAAACAGGCCTCATAATCGCGCCAC-ATAGCGCAACAAATTTTGCAGTTAAGTTTGCT-GCTCCAACACGCATTGATAGGCCCGCATCCCGATGGCTC-CACTAGTTACATGACAGACAGATTTCCAGCAGAACGTGTAGATACTACGAACTCTCGAATAATTTTTGG-TAACTGGGAGGGAGGTTCCGTTATTCTAAC-ATGAAAATGCCCTAT-TAAGCGGCCGGATAGGCGACCAGCCTCTGTATCTAGGATGACGGAGACACCCGGAGAGGTCTTCTTGCGATACAAACCTGAGTCCTCGGGAGCAGGCATATTTCAATCCGATATCCTCAGAAGTTCTAC-A\n",
      "\n"
     ]
    }
   ],
   "source": [
    "for i in range(1,11):\n",
    "    path = \"./prob4_data/data_\" + str(i)\n",
    "    path_fasta_1 = path + \"/seq1.fasta\"\n",
    "    path_fasta_2 = path + \"/seq2.fasta\"\n",
    "    path_score_mat = path + \"/substitution_matrix.txt\"\n",
    "    score, aligned_1, aligned_2 = optimal_global_alignment(path_fasta_1, path_fasta_2, path_score_mat)\n",
    "    output = \"The optimal alignment score between given sequences has score \" + str(score) + '\\n'\n",
    "    output += aligned_1 + '\\n'\n",
    "    output += aligned_2 + '\\n'\n",
    "    print(output)\n",
    "    output_file = './align_data_' + str(i) + '.txt'\n",
    "    with open(output_file, 'w') as f:\n",
    "        f.write(output)"
   ]
  },
  {
   "cell_type": "code",
   "execution_count": null,
   "metadata": {},
   "outputs": [],
   "source": []
  }
 ],
 "metadata": {
  "colab": {
   "name": "HW2_problem4.ipynb",
   "provenance": []
  },
  "kernelspec": {
   "display_name": "Python 3",
   "language": "python",
   "name": "python3"
  },
  "language_info": {
   "codemirror_mode": {
    "name": "ipython",
    "version": 3
   },
   "file_extension": ".py",
   "mimetype": "text/x-python",
   "name": "python",
   "nbconvert_exporter": "python",
   "pygments_lexer": "ipython3",
   "version": "3.8.8"
  }
 },
 "nbformat": 4,
 "nbformat_minor": 1
}
